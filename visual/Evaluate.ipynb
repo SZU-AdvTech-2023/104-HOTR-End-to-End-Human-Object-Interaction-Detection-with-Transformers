{
 "cells": [
  {
   "cell_type": "code",
   "execution_count": 1,
   "id": "d34d7404-cae1-41a5-b506-174c785bf6fc",
   "metadata": {},
   "outputs": [
    {
     "name": "stderr",
     "output_type": "stream",
     "text": [
      "/usr/lib/python3/dist-packages/requests/__init__.py:89: RequestsDependencyWarning: urllib3 (1.26.15) or chardet (3.0.4) doesn't match a supported version!\n",
      "  warnings.warn(\"urllib3 ({}) or chardet ({}) doesn't match a supported \"\n"
     ]
    }
   ],
   "source": [
    "import argparse\n",
    "import datetime\n",
    "import json\n",
    "import random\n",
    "import time\n",
    "import multiprocessing\n",
    "from pathlib import Path\n",
    "\n",
    "import numpy as np\n",
    "import torch\n",
    "from torch.utils.data import DataLoader, DistributedSampler\n",
    "\n",
    "import hotr.data.datasets as datasets\n",
    "import hotr.util.misc as utils\n",
    "from hotr.engine.arg_parser import get_args_parser\n",
    "from hotr.data.datasets import build_dataset, get_coco_api_from_dataset\n",
    "from hotr.engine.trainer import train_one_epoch\n",
    "from hotr.engine import hoi_evaluator, hoi_accumulator\n",
    "from hotr.models import build_model\n",
    "import wandb\n",
    "\n",
    "from hotr.util.logger import print_params, print_args"
   ]
  },
  {
   "cell_type": "code",
   "execution_count": 2,
   "id": "697a2166-42af-49de-9497-b546f07243d2",
   "metadata": {},
   "outputs": [],
   "source": [
    "command='''--HOIDet \\\n",
    "--share_enc \\\n",
    "--pretrained_dec \\\n",
    "--num_hoi_queries 16 \\\n",
    "--object_threshold 0 \\\n",
    "--temperature 0.05 \\\n",
    "--no_aux_loss \\\n",
    "--eval \\\n",
    "--dataset_file vcoco \\\n",
    "--data_path /gemini/code/v-coco \\\n",
    "--resume /gemini/code/hotr/checkpoints/vcoco/MMH_vcoco_pos_scaler/vcoco_multi_run/best.pth \\\n",
    "--use_pos_info \\\n",
    "--pos_scaler_type scaler\n",
    "'''\n",
    "command=command.strip().split(' ')"
   ]
  },
  {
   "cell_type": "code",
   "execution_count": 2,
   "id": "be3e6ae5-ae74-41d7-853b-c518eaa65bac",
   "metadata": {},
   "outputs": [],
   "source": [
    "command='''--HOIDet \\\n",
    "--share_enc \\\n",
    "--pretrained_dec \\\n",
    "--num_hoi_queries 16 \\\n",
    "--object_threshold 0 \\\n",
    "--temperature 0.05 \\\n",
    "--no_aux_loss \\\n",
    "--eval \\\n",
    "--dataset_file vcoco \\\n",
    "--data_path /gemini/code/v-coco \\\n",
    "--resume /gemini/code/hotr/checkpoints/vcoco/MMH/vcoco_multi_run_no_use_pos_info/best.pth \\\n",
    "'''\n",
    "command=command.strip().split(' ')"
   ]
  },
  {
   "cell_type": "code",
   "execution_count": 3,
   "id": "1bcde319-0e74-4b92-bd60-80121fdae068",
   "metadata": {},
   "outputs": [],
   "source": [
    "parser = argparse.ArgumentParser(\n",
    "    'End-to-End Human Object Interaction training and evaluation script',\n",
    "    parents=[get_args_parser()]\n",
    ")\n",
    "\n",
    "args = parser.parse_args(args=command)"
   ]
  },
  {
   "cell_type": "code",
   "execution_count": 4,
   "id": "f6450c29-9179-4e61-9318-949faf88400f",
   "metadata": {},
   "outputs": [
    {
     "name": "stdout",
     "output_type": "stream",
     "text": [
      "Not using distributed mode\n"
     ]
    }
   ],
   "source": [
    "utils.init_distributed_mode(args)\n",
    "\n",
    "if args.frozen_weights is not None:\n",
    "    print(\"Freeze weights for detector\")\n",
    "\n",
    "device = torch.device(args.device)\n",
    "\n",
    "# fix the seed for reproducibility\n",
    "seed = args.seed + utils.get_rank()\n",
    "torch.manual_seed(seed)\n",
    "np.random.seed(seed)\n",
    "random.seed(seed)"
   ]
  },
  {
   "cell_type": "code",
   "execution_count": 5,
   "id": "715c9ae4-fdfa-4811-99c7-85cc2a6047f2",
   "metadata": {},
   "outputs": [
    {
     "name": "stdout",
     "output_type": "stream",
     "text": [
      "loading annotations into memory...\n",
      "Done (t=1.61s)\n",
      "creating index...\n",
      "index created!\n",
      "loading annotations into memory...\n",
      "Done (t=1.59s)\n",
      "creating index...\n",
      "index created!\n",
      "\n",
      "[Logger] DETR Arguments:\n",
      "\tlr: 0.0001\n",
      "\tlr_backbone: 1e-05\n",
      "\tlr_drop: 80\n",
      "\tfrozen_weights: None\n",
      "\tbackbone: resnet50\n",
      "\tdilation: False\n",
      "\tposition_embedding: sine\n",
      "\tenc_layers: 6\n",
      "\tdec_layers: 6\n",
      "\tnum_queries: 100\n",
      "\tdataset_file: vcoco\n",
      "\n",
      "[Logger] DETR_HOI Arguments:\n",
      "\thoi_dec_layers: 6\n",
      "\thoi_nheads: 8\n",
      "\thoi_dim_feedforward: 2048\n",
      "\thoi_idx_loss_coef: 1\n",
      "\thoi_act_loss_coef: 1\n",
      "\thoi_eos_coef: 0.1\n",
      "\tobject_threshold: 0.0\n"
     ]
    }
   ],
   "source": [
    "# Data Setup\n",
    "dataset_train = build_dataset(image_set='train', args=args)\n",
    "dataset_val = build_dataset(image_set='val' if not args.eval else 'test', args=args)\n",
    "assert dataset_train.num_action() == dataset_val.num_action(), \"Number of actions should be the same between splits\"\n",
    "args.num_classes = dataset_train.num_category()\n",
    "args.num_actions = dataset_train.num_action()\n",
    "args.action_names = dataset_train.get_actions()\n",
    "if args.share_enc: args.hoi_enc_layers = args.enc_layers\n",
    "if args.pretrained_dec: args.hoi_dec_layers = args.dec_layers\n",
    "if args.dataset_file == 'vcoco':\n",
    "    # Save V-COCO dataset statistics\n",
    "    # 这里有动作的重要参数\n",
    "    args.valid_ids = np.array(dataset_train.get_object_label_idx()).nonzero()[0]\n",
    "    args.invalid_ids = np.argwhere(np.array(dataset_train.get_object_label_idx()) == 0).squeeze(1)\n",
    "    args.human_actions = dataset_train.get_human_action()\n",
    "    args.object_actions = dataset_train.get_object_action()\n",
    "    args.num_human_act = dataset_train.num_human_act()\n",
    "# elif args.dataset_file == 'hico-det':\n",
    "#     args.valid_obj_ids = dataset_train.get_valid_obj_ids()\n",
    "print_args(args)\n",
    "\n",
    "if args.distributed:\n",
    "    sampler_train = DistributedSampler(dataset_train, shuffle=True)\n",
    "    sampler_val = DistributedSampler(dataset_val, shuffle=False)\n",
    "else:\n",
    "    sampler_train = torch.utils.data.RandomSampler(dataset_train)\n",
    "    sampler_val = torch.utils.data.SequentialSampler(dataset_val)\n",
    "\n",
    "batch_sampler_train = torch.utils.data.BatchSampler(\n",
    "    sampler_train, args.batch_size, drop_last=True)\n",
    "\n",
    "data_loader_train = DataLoader(dataset_train, batch_sampler=batch_sampler_train,\n",
    "                               collate_fn=utils.collate_fn, num_workers=args.num_workers)\n",
    "data_loader_val = DataLoader(dataset_val, args.batch_size, sampler=sampler_val,\n",
    "                             drop_last=False, collate_fn=utils.collate_fn, num_workers=args.num_workers)"
   ]
  },
  {
   "cell_type": "code",
   "execution_count": 6,
   "id": "abc67ac8-318d-4204-82db-f23d59a05585",
   "metadata": {},
   "outputs": [
    {
     "name": "stdout",
     "output_type": "stream",
     "text": [
      "\n",
      "[Logger] Number of params:  51576960\n"
     ]
    }
   ],
   "source": [
    "# Model Setup\n",
    "model, criterion, postprocessors = build_model(args)\n",
    "model.to(device)\n",
    "\n",
    "model_without_ddp = model\n",
    "if args.distributed:\n",
    "    model = torch.nn.parallel.DistributedDataParallel(model, device_ids=[args.gpu])\n",
    "    model_without_ddp = model.module\n",
    "n_parameters = print_params(model)\n",
    "\n",
    "param_dicts = [\n",
    "    {\"params\": [p for n, p in model_without_ddp.named_parameters() if \"backbone\" not in n and p.requires_grad]},\n",
    "    {\n",
    "        \"params\": [p for n, p in model_without_ddp.named_parameters() if \"backbone\" in n and p.requires_grad],\n",
    "        \"lr\": args.lr_backbone,\n",
    "    },\n",
    "]"
   ]
  },
  {
   "cell_type": "code",
   "execution_count": 7,
   "id": "33640956-b18f-4041-803f-ce6f754c78f0",
   "metadata": {},
   "outputs": [],
   "source": [
    "optimizer = torch.optim.AdamW(param_dicts, lr=args.lr, weight_decay=args.weight_decay)\n",
    "lr_scheduler = torch.optim.lr_scheduler.StepLR(optimizer, args.lr_drop)\n",
    "\n",
    "# Weight Setup\n",
    "if args.frozen_weights is not None:\n",
    "    if args.frozen_weights.startswith('https'):\n",
    "        checkpoint = torch.hub.load_state_dict_from_url(\n",
    "            args.frozen_weights, map_location='cpu', check_hash=True)\n",
    "    else:\n",
    "        checkpoint = torch.load(args.frozen_weights, map_location='cpu')\n",
    "    model_without_ddp.detr.load_state_dict(checkpoint['model'])\n",
    "\n",
    "if args.resume:\n",
    "    if args.resume.startswith('https'):\n",
    "        checkpoint = torch.hub.load_state_dict_from_url(\n",
    "            args.resume, map_location='cpu', check_hash=True)\n",
    "    else:\n",
    "        checkpoint = torch.load(args.resume, map_location='cpu')\n",
    "    model_without_ddp.load_state_dict(checkpoint['model'])"
   ]
  },
  {
   "cell_type": "code",
   "execution_count": 8,
   "id": "c585f661-cd77-495a-a04f-81e7ffaaf90c",
   "metadata": {},
   "outputs": [
    {
     "name": "stdout",
     "output_type": "stream",
     "text": [
      "Evaluation Inference (V-COCO)  [ 644/2462]  eta: 0:26:48    time: 0.8085  data: 0.0169  max mem: 1476\r"
     ]
    },
    {
     "name": "stderr",
     "output_type": "stream",
     "text": [
      "\u001b[31m2023-05-02 16:35:21 [ERROR] [ -4280403,Out of memory ] cuMemAlloc(): fail to allocate 32768 KB memory (out of memory)\u001b[0m\n",
      "\u001b[31m2023-05-02 16:35:21 [ERROR] [ -4280406,Allocator error ] Failed to init new suballocator: error code 2\u001b[0m\n"
     ]
    },
    {
     "name": "stdout",
     "output_type": "stream",
     "text": [
      "Evaluation Inference (V-COCO)  [ 922/2462]  eta: 0:22:52    time: 0.8910  data: 0.0110  max mem: 1779\r"
     ]
    },
    {
     "name": "stderr",
     "output_type": "stream",
     "text": [
      "\u001b[31m2023-05-02 16:39:34 [ERROR] [ -4280403,Out of memory ] cuMemAlloc(): fail to allocate 202752 KB memory (out of memory)\u001b[0m\n"
     ]
    },
    {
     "name": "stdout",
     "output_type": "stream",
     "text": [
      "Evaluation Inference (V-COCO)  [2462/2462]  eta: 0:00:00    time: 0.8943  data: 0.0211  max mem: 2973\n",
      "[stats] Total Time (test) : 0:36:10 (0.8815 s / it)\n",
      "[stats] HOI Recognition Time (avg) : 46.0185 ms\n",
      "[stats] Distributed Gathering Time : 0:00:00\n",
      "[stats] Score Matrix Generation completed!!          \n",
      "\n",
      "============= AP (Role scenario_1) ==============\n",
      "               hold_obj: AP = 46.36 (#pos = 3608)\n",
      "              sit_instr: AP = 41.35 (#pos = 1916)\n",
      "             ride_instr: AP = 60.13 (#pos = 556)\n",
      "               look_obj: AP = 34.53 (#pos = 3347)\n",
      "              hit_instr: AP = 72.55 (#pos = 349)\n",
      "                hit_obj: AP = 49.74 (#pos = 349)\n",
      "                eat_obj: AP = 53.60 (#pos = 521)\n",
      "              eat_instr: AP = 62.53 (#pos = 521)\n",
      "             jump_instr: AP = 68.73 (#pos = 635)\n",
      "              lay_instr: AP = 51.91 (#pos = 387)\n",
      "    talk_on_phone_instr: AP = 47.59 (#pos = 285)\n",
      "              carry_obj: AP = 33.16 (#pos = 472)\n",
      "              throw_obj: AP = 45.72 (#pos = 244)\n",
      "              catch_obj: AP = 42.73 (#pos = 246)\n",
      "              cut_instr: AP = 49.57 (#pos = 269)\n",
      "                cut_obj: AP = 52.66 (#pos = 269)\n",
      " work_on_computer_instr: AP = 62.74 (#pos = 410)\n",
      "              ski_instr: AP = 46.68 (#pos = 424)\n",
      "             surf_instr: AP = 74.39 (#pos = 486)\n",
      "       skateboard_instr: AP = 83.10 (#pos = 417)\n",
      "            drink_instr: AP = 36.06 (#pos = 82)\n",
      "               kick_obj: AP = 74.30 (#pos = 180)\n",
      "               read_obj: AP = 43.30 (#pos = 111)\n",
      "        snowboard_instr: AP = 79.72 (#pos = 277)\n",
      "| mAP(role scenario_1): 54.71\n",
      "----------------------------------------------------\n",
      "\n",
      "============= AP (Role scenario_2) ==============\n",
      "               hold_obj: AP = 54.23 (#pos = 3608)\n",
      "              sit_instr: AP = 47.67 (#pos = 1916)\n",
      "             ride_instr: AP = 62.65 (#pos = 556)\n",
      "               look_obj: AP = 42.28 (#pos = 3347)\n",
      "              hit_instr: AP = 79.40 (#pos = 349)\n",
      "                hit_obj: AP = 57.96 (#pos = 349)\n",
      "                eat_obj: AP = 62.31 (#pos = 521)\n",
      "              eat_instr: AP = 70.25 (#pos = 521)\n",
      "             jump_instr: AP = 69.90 (#pos = 635)\n",
      "              lay_instr: AP = 57.98 (#pos = 387)\n",
      "    talk_on_phone_instr: AP = 54.43 (#pos = 285)\n",
      "              carry_obj: AP = 35.20 (#pos = 472)\n",
      "              throw_obj: AP = 50.96 (#pos = 244)\n",
      "              catch_obj: AP = 49.56 (#pos = 246)\n",
      "              cut_instr: AP = 56.00 (#pos = 269)\n",
      "                cut_obj: AP = 61.67 (#pos = 269)\n",
      " work_on_computer_instr: AP = 67.47 (#pos = 410)\n",
      "              ski_instr: AP = 56.64 (#pos = 424)\n",
      "             surf_instr: AP = 76.56 (#pos = 486)\n",
      "       skateboard_instr: AP = 84.82 (#pos = 417)\n",
      "            drink_instr: AP = 36.82 (#pos = 82)\n",
      "               kick_obj: AP = 82.35 (#pos = 180)\n",
      "               read_obj: AP = 44.97 (#pos = 111)\n",
      "        snowboard_instr: AP = 83.30 (#pos = 277)\n",
      "| mAP(role scenario_2): 60.22\n",
      "----------------------------------------------------\n"
     ]
    }
   ],
   "source": [
    "if args.eval:\n",
    "    # test only mode\n",
    "    if args.HOIDet:\n",
    "        if args.dataset_file == 'vcoco':\n",
    "            total_res = hoi_evaluator(args, model, criterion, postprocessors, data_loader_val, device)\n",
    "            sc1, sc2 = hoi_accumulator(args, total_res, True, False)\n",
    "        elif args.dataset_file == 'hico-det':\n",
    "            test_stats = hoi_evaluator(args, model, None, postprocessors, data_loader_val, device)\n",
    "            print(f'| mAP (full)\\t\\t: {test_stats[\"mAP\"]:.2f}')\n",
    "            print(f'| mAP (rare)\\t\\t: {test_stats[\"mAP rare\"]:.2f}')\n",
    "            print(f'| mAP (non-rare)\\t: {test_stats[\"mAP non-rare\"]:.2f}')\n",
    "        else:\n",
    "            raise ValueError(f'dataset {args.dataset_file} is not supported.')\n",
    "    else:\n",
    "        test_stats, coco_evaluator = evaluate_coco(model, criterion, postprocessors,\n",
    "                                                   data_loader_val, base_ds, device, args.output_dir)\n",
    "        if args.output_dir:\n",
    "            utils.save_on_master(coco_evaluator.coco_eval[\"bbox\"].eval, output_dir / \"eval.pth\")"
   ]
  },
  {
   "cell_type": "code",
   "execution_count": 8,
   "id": "4babf775-691d-4a28-bf0d-c7d82259e9f7",
   "metadata": {},
   "outputs": [
    {
     "name": "stdout",
     "output_type": "stream",
     "text": [
      "Evaluation Inference (V-COCO)  [ 644/2462]  eta: 0:28:02    time: 0.8494  data: 0.0107  max mem: 1478\r"
     ]
    },
    {
     "name": "stderr",
     "output_type": "stream",
     "text": [
      "\u001b[31m2023-05-02 17:20:27 [ERROR] [ -4280403,Out of memory ] cuMemAlloc(): fail to allocate 32768 KB memory (out of memory)\u001b[0m\n",
      "\u001b[31m2023-05-02 17:20:27 [ERROR] [ -4280406,Allocator error ] Failed to init new suballocator: error code 2\u001b[0m\n"
     ]
    },
    {
     "name": "stdout",
     "output_type": "stream",
     "text": [
      "Evaluation Inference (V-COCO)  [ 922/2462]  eta: 0:23:39    time: 0.9698  data: 0.0121  max mem: 1781\r"
     ]
    },
    {
     "name": "stderr",
     "output_type": "stream",
     "text": [
      "\u001b[31m2023-05-02 17:24:42 [ERROR] [ -4280403,Out of memory ] cuMemAlloc(): fail to allocate 202752 KB memory (out of memory)\u001b[0m\n"
     ]
    },
    {
     "name": "stdout",
     "output_type": "stream",
     "text": [
      "Evaluation Inference (V-COCO)  [2462/2462]  eta: 0:00:00    time: 1.0531  data: 0.0154  max mem: 2975\n",
      "[stats] Total Time (test) : 0:39:53 (0.9722 s / it)\n",
      "[stats] HOI Recognition Time (avg) : 120.9336 ms\n",
      "[stats] Distributed Gathering Time : 0:00:00\n",
      "[stats] Score Matrix Generation completed!!          \n",
      "\n",
      "============= AP (Role scenario_1) ==============\n",
      "               hold_obj: AP = 51.31 (#pos = 3608)\n",
      "              sit_instr: AP = 48.93 (#pos = 1916)\n",
      "             ride_instr: AP = 64.84 (#pos = 556)\n",
      "               look_obj: AP = 41.70 (#pos = 3347)\n",
      "              hit_instr: AP = 78.95 (#pos = 349)\n",
      "                hit_obj: AP = 74.21 (#pos = 349)\n",
      "                eat_obj: AP = 58.48 (#pos = 521)\n",
      "              eat_instr: AP = 72.55 (#pos = 521)\n",
      "             jump_instr: AP = 73.96 (#pos = 635)\n",
      "              lay_instr: AP = 55.12 (#pos = 387)\n",
      "    talk_on_phone_instr: AP = 52.75 (#pos = 285)\n",
      "              carry_obj: AP = 36.90 (#pos = 472)\n",
      "              throw_obj: AP = 57.03 (#pos = 244)\n",
      "              catch_obj: AP = 53.21 (#pos = 246)\n",
      "              cut_instr: AP = 48.72 (#pos = 269)\n",
      "                cut_obj: AP = 56.35 (#pos = 269)\n",
      " work_on_computer_instr: AP = 66.49 (#pos = 410)\n",
      "              ski_instr: AP = 51.83 (#pos = 424)\n",
      "             surf_instr: AP = 77.90 (#pos = 486)\n",
      "       skateboard_instr: AP = 85.81 (#pos = 417)\n",
      "            drink_instr: AP = 49.82 (#pos = 82)\n",
      "               kick_obj: AP = 74.13 (#pos = 180)\n",
      "               read_obj: AP = 42.19 (#pos = 111)\n",
      "        snowboard_instr: AP = 82.07 (#pos = 277)\n",
      "| mAP(role scenario_1): 60.64\n",
      "----------------------------------------------------\n",
      "\n",
      "============= AP (Role scenario_2) ==============\n",
      "               hold_obj: AP = 58.29 (#pos = 3608)\n",
      "              sit_instr: AP = 55.79 (#pos = 1916)\n",
      "             ride_instr: AP = 66.91 (#pos = 556)\n",
      "               look_obj: AP = 49.76 (#pos = 3347)\n",
      "              hit_instr: AP = 81.40 (#pos = 349)\n",
      "                hit_obj: AP = 79.35 (#pos = 349)\n",
      "                eat_obj: AP = 66.31 (#pos = 521)\n",
      "              eat_instr: AP = 75.77 (#pos = 521)\n",
      "             jump_instr: AP = 74.63 (#pos = 635)\n",
      "              lay_instr: AP = 58.85 (#pos = 387)\n",
      "    talk_on_phone_instr: AP = 57.24 (#pos = 285)\n",
      "              carry_obj: AP = 39.68 (#pos = 472)\n",
      "              throw_obj: AP = 62.20 (#pos = 244)\n",
      "              catch_obj: AP = 58.78 (#pos = 246)\n",
      "              cut_instr: AP = 55.46 (#pos = 269)\n",
      "                cut_obj: AP = 64.31 (#pos = 269)\n",
      " work_on_computer_instr: AP = 70.03 (#pos = 410)\n",
      "              ski_instr: AP = 62.25 (#pos = 424)\n",
      "             surf_instr: AP = 80.59 (#pos = 486)\n",
      "       skateboard_instr: AP = 86.98 (#pos = 417)\n",
      "            drink_instr: AP = 50.71 (#pos = 82)\n",
      "               kick_obj: AP = 82.45 (#pos = 180)\n",
      "               read_obj: AP = 45.97 (#pos = 111)\n",
      "        snowboard_instr: AP = 85.31 (#pos = 277)\n",
      "| mAP(role scenario_2): 65.38\n",
      "----------------------------------------------------\n"
     ]
    }
   ],
   "source": [
    "if args.eval:\n",
    "    # test only mode\n",
    "    if args.HOIDet:\n",
    "        if args.dataset_file == 'vcoco':\n",
    "            total_res = hoi_evaluator(args, model, criterion, postprocessors, data_loader_val, device)\n",
    "            sc1, sc2 = hoi_accumulator(args, total_res, True, False)\n",
    "        elif args.dataset_file == 'hico-det':\n",
    "            test_stats = hoi_evaluator(args, model, None, postprocessors, data_loader_val, device)\n",
    "            print(f'| mAP (full)\\t\\t: {test_stats[\"mAP\"]:.2f}')\n",
    "            print(f'| mAP (rare)\\t\\t: {test_stats[\"mAP rare\"]:.2f}')\n",
    "            print(f'| mAP (non-rare)\\t: {test_stats[\"mAP non-rare\"]:.2f}')\n",
    "        else:\n",
    "            raise ValueError(f'dataset {args.dataset_file} is not supported.')\n",
    "    else:\n",
    "        test_stats, coco_evaluator = evaluate_coco(model, criterion, postprocessors,\n",
    "                                                   data_loader_val, base_ds, device, args.output_dir)\n",
    "        if args.output_dir:\n",
    "            utils.save_on_master(coco_evaluator.coco_eval[\"bbox\"].eval, output_dir / \"eval.pth\")"
   ]
  },
  {
   "cell_type": "code",
   "execution_count": null,
   "id": "72b6909c-a2d3-4298-8f80-5ef0479198d4",
   "metadata": {},
   "outputs": [],
   "source": []
  }
 ],
 "metadata": {
  "kernelspec": {
   "display_name": "Python 3 (ipykernel)",
   "language": "python",
   "name": "python3"
  },
  "language_info": {
   "codemirror_mode": {
    "name": "ipython",
    "version": 3
   },
   "file_extension": ".py",
   "mimetype": "text/x-python",
   "name": "python",
   "nbconvert_exporter": "python",
   "pygments_lexer": "ipython3",
   "version": "3.8.10"
  }
 },
 "nbformat": 4,
 "nbformat_minor": 5
}
